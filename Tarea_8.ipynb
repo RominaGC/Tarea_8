{
 "cells": [
  {
   "cell_type": "markdown",
   "metadata": {},
   "source": [
    "<img style=\"float: left; margin: 30px 15px 15px 15px;\" src=\"https://pngimage.net/wp-content/uploads/2018/06/logo-iteso-png-5.png\" width=\"300\" height=\"500\" /> \n",
    "    \n",
    "    \n",
    "### <font color='navy'> Simulación de procesos financieros. \n",
    "\n",
    "**Nombres:** Romina Gutiérrez Cortés\n",
    "\n",
    "**Fecha:** 31 de octubre del 2020.\n",
    "\n",
    "**Expediente** : 713415.\n",
    "**Profesor:** Oscar David Jaramillo Zuluaga.\n",
    "\n",
    "# Tarea 8: Clase 16"
   ]
  },
  {
   "cell_type": "markdown",
   "metadata": {},
   "source": [
    "# Ejercicio \n",
    "![image.png](attachment:image.png)"
   ]
  },
  {
   "cell_type": "markdown",
   "metadata": {},
   "source": [
    "###### a) Montecarlo"
   ]
  },
  {
   "cell_type": "code",
   "execution_count": 55,
   "metadata": {},
   "outputs": [],
   "source": [
    "\n",
    "import numpy as np\n",
    "from functools import reduce\n",
    "import time\n",
    "import matplotlib.pyplot as plt\n",
    "import scipy.stats as st \n",
    "import pandas as pd\n",
    "from scipy import optimize"
   ]
  },
  {
   "cell_type": "code",
   "execution_count": 61,
   "metadata": {},
   "outputs": [
    {
     "name": "stdout",
     "output_type": "stream",
     "text": [
      "Media por el método de Montecarlo = 2.566141312468274\n"
     ]
    }
   ],
   "source": [
    "f_x = lambda x: 1/x**2 if x>=1 else 0\n",
    "f_inv= lambda u: 1/(1-u)\n",
    "\n",
    "N= 1000\n",
    "u= np.random.uniform(0,0.90,N)\n",
    "m1= f_inv(u)\n",
    "print('Media por el método de Montecarlo =', m1.mean())"
   ]
  },
  {
   "cell_type": "code",
   "execution_count": 67,
   "metadata": {},
   "outputs": [],
   "source": [
    "fx = lambda x: 1/x**2\n",
    "f_inv = lambda u: 1/(1-u)"
   ]
  },
  {
   "cell_type": "code",
   "execution_count": 68,
   "metadata": {},
   "outputs": [
    {
     "data": {
      "image/png": "[encoded data removed]",
      "text/plain": [
       "<Figure size 432x288 with 1 Axes>"
      ]
     },
     "metadata": {
      "needs_background": "light"
     },
     "output_type": "display_data"
    }
   ],
   "source": [
    "x = np.arange(1,5,0.01)\n",
    "plt.plot(x, fx(x))\n",
    "plt.hist(m1, bins=20, density=True)\n",
    "plt.show()\n"
   ]
  },
  {
   "cell_type": "markdown",
   "metadata": {},
   "source": [
    "######  Muestreo estratificado"
   ]
  },
  {
   "cell_type": "code",
   "execution_count": 69,
   "metadata": {},
   "outputs": [
    {
     "name": "stdout",
     "output_type": "stream",
     "text": [
      "Media por el método de estratificado 2=  3.586873270115473\n"
     ]
    }
   ],
   "source": [
    "np.random.seed(100)\n",
    "n1 = 3; n2 = 3; n3 = 4\n",
    "suma = n1+n2+n3\n",
    "r1 = np.random.uniform(0, 0.6, int(n1))\n",
    "r2 = np.random.uniform(0.6, 0.9, int(n2))\n",
    "r3 = np.random.uniform(0.9, 1, int(n3))\n",
    "r = [r1, r2, r3]\n",
    "w1 = n1/suma/0.6\n",
    "w2 = n2/suma/0.3\n",
    "w3 = n3/suma/0.1\n",
    "w = [w1, w2, w3]\n",
    "xi = list(map(lambda r:f_inv(r),r))\n",
    "muestras = list(map(lambda wi,xi:xi/wi,w,xi))\n",
    "Estratif1 = list(map(lambda x, wi: x/wi, muestras, w))\n",
    "m2 = np.concatenate(Estratif1)\n",
    "print('Media por el método de estratificado 2= ',np.mean(m2))"
   ]
  },
  {
   "cell_type": "markdown",
   "metadata": {},
   "source": [
    "##### Estratificado 2"
   ]
  },
  {
   "cell_type": "code",
   "execution_count": 84,
   "metadata": {},
   "outputs": [],
   "source": [
    "def estra_igualmente_espaciado(B):\n",
    "    \"\"\"\n",
    "    Escribir la función acá y debidamente comentarla\n",
    "    \"\"\"\n",
    "    U2= np.random.rand(B)\n",
    "    i= np.arange(0,B)\n",
    "    estratos= (U2+i)/B\n",
    "    return estratos"
   ]
  },
  {
   "cell_type": "code",
   "execution_count": 86,
   "metadata": {},
   "outputs": [
    {
     "name": "stdout",
     "output_type": "stream",
     "text": [
      "Media por el método de estratificado 2=  3.365812166958512\n"
     ]
    }
   ],
   "source": [
    "U= estra_igualmente_espaciado(10)\n",
    "m3= f_inv(U)\n",
    "\n",
    "print('Media por el método de estratificado 2= ',np.mean(m3))"
   ]
  },
  {
   "cell_type": "markdown",
   "metadata": {},
   "source": [
    "######  d) complementario"
   ]
  },
  {
   "cell_type": "code",
   "execution_count": 116,
   "metadata": {},
   "outputs": [
    {
     "name": "stdout",
     "output_type": "stream",
     "text": [
      "Con el M.N.C es =  7.60978487628096\n"
     ]
    }
   ],
   "source": [
    "ri = np.random.rand(N)\n",
    "ri_c = 1-ri \n",
    "U1= f_inv(ri)\n",
    "U2= f_inv(ri_c)\n",
    "\n",
    "m4 = (U1.mean()+U2.mean())/2\n",
    "\n",
    "print('Con el M.N.C es = ',np.mean(m4))\n"
   ]
  }
 ],
 "metadata": {
  "kernelspec": {
   "display_name": "Python 3",
   "language": "python",
   "name": "python3"
  },
  "language_info": {
   "codemirror_mode": {
    "name": "ipython",
    "version": 3
   },
   "file_extension": ".py",
   "mimetype": "text/x-python",
   "name": "python",
   "nbconvert_exporter": "python",
   "pygments_lexer": "ipython3",
   "version": "3.8.3"
  }
 },
 "nbformat": 4,
 "nbformat_minor": 4
}
